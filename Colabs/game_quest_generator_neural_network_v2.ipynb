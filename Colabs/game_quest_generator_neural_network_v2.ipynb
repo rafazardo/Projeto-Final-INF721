{
  "nbformat": 4,
  "nbformat_minor": 0,
  "metadata": {
    "colab": {
      "provenance": [],
      "toc_visible": true,
      "authorship_tag": "ABX9TyObr+QNUDPFS28DD3BLeDMB",
      "include_colab_link": true
    },
    "kernelspec": {
      "name": "python3",
      "display_name": "Python 3"
    },
    "language_info": {
      "name": "python"
    }
  },
  "cells": [
    {
      "cell_type": "markdown",
      "metadata": {
        "id": "view-in-github",
        "colab_type": "text"
      },
      "source": [
        "<a href=\"https://colab.research.google.com/github/rafazardo/Projeto-Final-INF721/blob/main/Colabs/game_quest_generator_neural_network_v2.ipynb\" target=\"_parent\"><img src=\"https://colab.research.google.com/assets/colab-badge.svg\" alt=\"Open In Colab\"/></a>"
      ]
    },
    {
      "cell_type": "markdown",
      "source": [
        "# Depêndencias"
      ],
      "metadata": {
        "id": "W1RsdmpygpQr"
      }
    },
    {
      "cell_type": "code",
      "source": [
        "import pandas as pd\n",
        "import io\n",
        "import requests"
      ],
      "metadata": {
        "id": "2Z8miD3Cgtzl"
      },
      "execution_count": 46,
      "outputs": []
    },
    {
      "cell_type": "markdown",
      "source": [
        " # Controle de Logs"
      ],
      "metadata": {
        "id": "5hussLxnwXzT"
      }
    },
    {
      "cell_type": "markdown",
      "source": [
        "**Classe Log**\n",
        "\n",
        "A classe Log possui um método estático chamado upload_datasets. Esse método recebe um nome de arquivo e uma lista de objetos da classe Dataset. Ele cria um arquivo com o nome fornecido e registra informações sobre cada dataset nesse arquivo. Especificamente, para cada dataset na lista, o método escreve o nome do jogo e as primeiras linhas do DataFrame no arquivo."
      ],
      "metadata": {
        "id": "VExwWZJkwba1"
      }
    },
    {
      "cell_type": "code",
      "source": [
        "#@title Classes da Secão\n",
        "\n",
        "class Log:\n",
        "    @staticmethod\n",
        "\n",
        "    def upload_datasets(nome_arquivo, datasets):\n",
        "        \"\"\"\n",
        "        Gera um log em um arquivo contendo informações sobre os datasets.\n",
        "\n",
        "        Parâmetros:\n",
        "        - nome_arquivo (str): Nome do arquivo para salvar o log.\n",
        "        - datasets (list): Lista de objetos da classe Dataset.\n",
        "        \"\"\"\n",
        "\n",
        "        with open(nome_arquivo, \"w\") as file:\n",
        "            for dataset in datasets:\n",
        "                file.write(f\"Nome: {dataset.nome}\\n\")\n",
        "                file.write(\"DataFrame:\\n\")\n",
        "                file.write(f\"{dataset.df.head()}\\n\\n\")"
      ],
      "metadata": {
        "id": "1pDkKZpKwbyA"
      },
      "execution_count": 47,
      "outputs": []
    },
    {
      "cell_type": "markdown",
      "source": [
        "# Upload Datasets\n"
      ],
      "metadata": {
        "id": "97DSwAd4_Zr0"
      }
    },
    {
      "cell_type": "markdown",
      "source": [
        "**Classe Dataset**\n",
        "\n",
        "A classe Dataset tem um construtor (__init__) que recebe o nome do jogo e a URL do arquivo CSV contendo os dados do jogo. A função carregar_dataset na classe é responsável por realizar o download do dataset da URL fornecida e criar um DataFrame Pandas com esses dados.\n",
        "\n",
        "**Criação de Instâncias e Geração de Log**\n",
        "\n",
        "A célula continua criando uma lista de jogos e URLs correspondentes a arquivos CSV no GitHub. Em seguida, são criados objetos da classe Dataset para cada jogo na lista, associando o nome do jogo e a URL do dataset.\n",
        "\n",
        "Finalmente, a função upload_datasets da classe Log é chamada para criar um log chamado \"log_upload_dataset\", registrando informações sobre os datasets recém-criados."
      ],
      "metadata": {
        "id": "jVp__TIQvwF1"
      }
    },
    {
      "cell_type": "code",
      "execution_count": 48,
      "metadata": {
        "id": "OcECeweP8Wm9"
      },
      "outputs": [],
      "source": [
        "#@title Classes da Secão\n",
        "class Dataset:\n",
        "    def __init__(self, nome, url):\n",
        "        \"\"\"\n",
        "        Classe para representar um conjunto de dados de um jogo.\n",
        "\n",
        "        Parâmetros:\n",
        "        - nome (str): Nome do jogo.\n",
        "        - url (str): URL do arquivo CSV contendo os dados do jogo.\n",
        "        \"\"\"\n",
        "\n",
        "        self.nome = nome\n",
        "        self.url = url\n",
        "        self.df = self.carregar_dataset()\n",
        "\n",
        "    def carregar_dataset(self):\n",
        "        \"\"\"\n",
        "        Carrega o conjunto de dados a partir da URL fornecida.\n",
        "\n",
        "        Retorna:\n",
        "        - pd.DataFrame: DataFrame contendo os dados do jogo.\n",
        "        \"\"\"\n",
        "\n",
        "        response = requests.get(self.url)\n",
        "        return pd.read_csv(io.StringIO(response.text))"
      ]
    },
    {
      "cell_type": "code",
      "source": [
        "#@title Main da Seção\n",
        "\n",
        "# Lista de jogos e URLs dos arquivos CSV no GitHub\n",
        "jogos = [\n",
        "  \"Chrono Trigger\",\n",
        "  \"Final Fantasy\",\n",
        "  \"Star Wars Knights of the Old Republic\",\n",
        "  \"The Elder Scrolls\",\n",
        "  \"Torchlight II\"\n",
        "]\n",
        "\n",
        "urls = [\n",
        "  \"https://raw.githubusercontent.com/rafazardo/Projeto-Final-INF721/main/Datasets/Chrono%20Trigger/dataset1_v1.csv\",\n",
        "  \"https://raw.githubusercontent.com/rafazardo/Projeto-Final-INF721/main/Datasets/Final%20Fantasy/dataset2_v1.csv\",\n",
        "  \"https://raw.githubusercontent.com/rafazardo/Projeto-Final-INF721/main/Datasets/Star%20Wars%20Knights%20of%20the%20Old%20Republic/dataset3_v3.csv\",\n",
        "  \"https://raw.githubusercontent.com/rafazardo/Projeto-Final-INF721/main/Datasets/The%20Elder%20Scrolls/dataset4_v2.csv\",\n",
        "  \"https://raw.githubusercontent.com/rafazardo/Projeto-Final-INF721/main/Datasets/Torchlight%20II/dataset5_v3.csv\"\n",
        "]\n",
        "\n",
        "# Criar objetos da classe JogoDataset\n",
        "datasets = [Dataset(nome, url) for nome, url in zip(jogos, urls)]\n",
        "\n",
        "# Cria log da aplicação para debug\n",
        "Log.upload_datasets(\"log_upload_dataset\", datasets)\n"
      ],
      "metadata": {
        "id": "oX--Vcs7w5ap"
      },
      "execution_count": 49,
      "outputs": []
    },
    {
      "cell_type": "markdown",
      "source": [],
      "metadata": {
        "id": "IjSXAymHgpLg"
      }
    }
  ]
}