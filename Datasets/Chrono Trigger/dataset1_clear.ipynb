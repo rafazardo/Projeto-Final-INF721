{
  "nbformat": 4,
  "nbformat_minor": 0,
  "metadata": {
    "colab": {
      "provenance": []
    },
    "kernelspec": {
      "name": "python3",
      "display_name": "Python 3"
    },
    "language_info": {
      "name": "python"
    }
  },
  "cells": [
    {
      "cell_type": "code",
      "source": [
        "from google.colab import drive\n",
        "drive.mount('/content/drive')"
      ],
      "metadata": {
        "colab": {
          "base_uri": "https://localhost:8080/"
        },
        "id": "Q0jCdE66lqc3",
        "outputId": "5ab27a88-21e2-41f8-df10-18612d350140"
      },
      "execution_count": 1,
      "outputs": [
        {
          "output_type": "stream",
          "name": "stdout",
          "text": [
            "Mounted at /content/drive\n"
          ]
        }
      ]
    },
    {
      "cell_type": "code",
      "execution_count": 35,
      "metadata": {
        "id": "-QcIYKfUkQQo"
      },
      "outputs": [],
      "source": [
        "import os\n",
        "import pandas as pd\n",
        "\n",
        "from bs4 import BeautifulSoup\n",
        "import csv\n",
        "\n",
        "html_file_path = \"/content/drive/MyDrive/Datasets/Chrono Trigger/datasets1_originals/chapter15.html\"\n",
        "\n",
        "\n",
        "encodings = [\"utf-8\", \"latin1\", \"cp1252\", \"utf-16\"]\n",
        "for encoding in encodings:\n",
        "    try:\n",
        "        with open(html_file_path, \"rb\") as html_file:\n",
        "            html_content_bytes = html_file.read()\n",
        "            html_content = html_content_bytes.decode(encoding)\n",
        "        break\n",
        "    except UnicodeDecodeError:\n",
        "        continue\n",
        "\n",
        "soup = BeautifulSoup(html_content, 'html.parser')\n",
        "\n",
        "text_content = soup.get_text()\n",
        "\n",
        "#print(text_content)"
      ]
    },
    {
      "cell_type": "code",
      "source": [
        "import csv\n",
        "\n",
        "\n",
        "# Split the text into lines and remove blank lines\n",
        "lines = [line.strip() for line in text_content.split('\\n') if line.strip()]\n",
        "\n",
        "# Initialize an empty list to store non-blank lines\n",
        "csv_data = [[line] for line in lines]\n",
        "\n",
        "# Write the data to a CSV file\n",
        "with open(\"script.csv\", \"w\", newline=\"\") as csv_file:\n",
        "    csv_writer = csv.writer(csv_file)\n",
        "    csv_writer.writerows(csv_data)\n",
        "\n",
        "\n",
        "with open(\"script.csv\", \"r\", newline=\"\") as csv_file:\n",
        "    csv_reader = csv.reader(csv_file)\n",
        "\n",
        "    for row in csv_reader:\n",
        "        print(row[0])\n"
      ],
      "metadata": {
        "id": "MwjYfze9c4jv",
        "colab": {
          "base_uri": "https://localhost:8080/"
        },
        "outputId": "48b1b465-cbbd-4cba-b62c-46ef1548053c"
      },
      "execution_count": 36,
      "outputs": [
        {
          "output_type": "stream",
          "name": "stdout",
          "text": [
            "Script: Magus' Castle\n",
            " Spoiler Warning: this page contains detailed plot\n",
            "information \n",
            "Chrono Trigger Script\n",
            "~ Magus' Castle ~\n",
            "Exterior\n",
            "Frog\n",
            "This can only beMaguss castle!\n",
            "Entrance\n",
            "Frog\n",
            "Ozzie!\n",
            "Ozzie\n",
            "Welcome, Glenn! Or should I say, Sir Froggy! Mwa, ha! Say, looks like you\n",
            "got some replacements for Cyrus! Magus is a tad busy right now. Youll\n",
            "have to take up your business with me the swordsman, Slash, and\n",
            "Flea, the magicianAnd! Youll have to defeat all 100 of\n",
            "the beasts in Magus castle!\n",
            "Left Hall\n",
            "Decedents\n",
            "#1:  Please, put a stop to this!\n",
            "#2:  Oh\n",
            "#3:  Put me out of my misery\n",
            "#4:  Please let me go\n",
            "Omnicrone\n",
            "#1:  Dance, DANCE!! For tonight our leader is to be born! Ah! Here\n",
            "comes the sacrifice!\n",
            "#2:  Only a moron would try to kill something thats already dead!\n",
            "Hhumans!\n",
            "Decedent\n",
            "Please help Relieve us of this misery!\n",
            "Slash\n",
            "Hmmm How did you get past mycadaver pals?\n",
            "Frog\n",
            "Its been ages, Sir Slush!\n",
            "Slash\n",
            "Thats SLASH, you slimy dolt! Still playing the comedian, eh Glenn?\n",
            "Youd be singing a different tune if Cyrus hadnt been there with\n",
            "you last time! Youd have fit right in with those boney fellows you\n",
            "just busted up!\n",
            "(after first phase of the battle)\n",
            "Slash\n",
            "Now, lets get to business. This is going to do me a world of good!\n",
            "And with no Cyrus to protect you, youre mine! You dare to oppose me?!\n",
            "(after second battle)\n",
            "Unbelievable! But falling in the line of duty for Magus leaves\n",
            "me with few regrets!\n",
            "Right Hall\n",
            "faux-kid\n",
            "Do you want our treasure?\n",
            " Yes.  »  In that case, will you\n",
            "Play with us! Please! Pretty please!\n",
            " No.  »  Its good stuff\n",
            "faux-Guardia\n",
            "Princess Nadia I was wrong! Please return to the castle as\n",
            "road kill, my dear!\n",
            "faux-Leene\n",
            "Frog, youre safe! I guess wed better do something about that!\n",
            "faux-Gina\n",
            "Crono! So THIS is where youve been since the Festival! You had\n",
            "me worried sick!\n",
            "Children THIS naughty deserve to be punished!\n",
            "faux-Lucca\n",
            "Robo, dont waste your strength! No matter what you do, Ill\n",
            "break you!\n",
            "faux-Taban\n",
            "Well, if it isnt Lucca! Youre STILL alive, my dear?!\n",
            "Flea's Room\n",
            "Frog\n",
            "The magician, Flea, I presume?\n",
            "(after defeating Juggler)\n",
            "Wait! That isnt Flea Wheres the REAL Flea?!\n",
            "Flea\n",
            "Mwa ha Here, over here Giving up, little tadpole?!\n",
            "Marle\n",
            "Who IS this person?\n",
            "Lucca\n",
            "Hey! Who ARE you?!\n",
            "Robo\n",
            "Who is this fiend?\n",
            "Frog\n",
            "Keep your guard up! This is no ordinary woman! Meet Flea, the\n",
            "magician!\n",
            "Flea\n",
            "What the?! Hey, Im a GUY!\n",
            "Marle\n",
            "THAT is a GUY?!\n",
            "Lucca\n",
            "Say what?! Thats a guy?!\n",
            "Robo\n",
            "But its exterior is that of a female\n",
            "Flea\n",
            "Malefemalewhats the difference? Power is beautiful,\n",
            "and Ive got the power! Poor little Froggie! You must be lonely now\n",
            "that Cyrus is gone. And to be turned into something so hideous! Dreadful!\n",
            "But since youve brought your new friends over to play\n",
            "Ill show you all a good time!\n",
            "(after battle)\n",
            "Flea\n",
            "How can this be Sir Magus\n",
            "Main Hall\n",
            "Ozzie\n",
            "I grow tired of this! Slash!! Flea!\n",
            "Frog\n",
            "Sorry, Ozzie, but they cant help you now\n",
            "Ozzie\n",
            "You fly eating, tongue flicking! OzOzzies ina\n",
            "jam!!\n",
            "Frog\n",
            "Thou canst not run!\n",
            "Guillotine Room\n",
            "Ozzie\n",
            "Welcome! Mwa, ha Hows this?\n",
            "(Crono makes it through)\n",
            "Urghhhhhh What the?! Impossible!\n",
            "Long Hall\n",
            "Ozzie\n",
            "What the?! Impossible! Urghhhhhh GrrThis takes\n",
            "the cake!\n",
            "Throne Room\n",
            "Ozzie\n",
            "Urghhhhhh\n",
            "Frog\n",
            "Thy time hath cometh, Ozzie.\n",
            "Ozzie\n",
            "Harharhar Im sure Sir Magus has already called\n",
            "for reinforcements! Wait until Lavos arrives!!\n",
            "I shant be defeated! No form of attack will break MY barrier!\n",
            "(Crono hits switch)\n",
            "Ozzie\n",
            "Hahahahahaha!!\n",
            "Watch where youre aiming! Guwa, ha, ha\n",
            "Hahahahahaha!!\n",
            "Mwee, hee, hee Eh?!\n",
            "Marle\n",
            "That was a breeze!\n",
            "Lucca\n",
            "That guy was totally bent\n",
            "Robo\n",
            "What was that guys problem?\n",
            "That Ozzie\n",
            "Frog\n",
            "We must hurry to Maguss place!\n",
            "Inner Sanctum\n",
            "Magus\n",
            "Neuga, ziena, zieber, zom\n",
            "Now the chosen time has come\n",
            "Exchange this world for!\n",
            "Frog\n",
            "Magus!!\n",
            "Magus\n",
            "Iits that stupid frog! Kissed any princesses lately?!\n",
            "Frog\n",
            "I rather enjoy this form. And I oweth it all to you! I have\n",
            "something for you!\n",
            "Magus\n",
            "Ah! The Masamune!!! I bet youre just dying to use\n",
            "it! The black wind begins to blow\n",
            "Okaygive me your best shot If youre prepared for the void!\n",
            "(after battle)\n",
            "Magus\n",
            "Wwhat have you done to the Masamune?\n",
            "Marle\n",
            "What the?!\n",
            "Lucca\n",
            "Whats happening!\n",
            "Robo\n",
            "Its a large-scale energy reaction!\n",
            "Frog\n",
            "Could it beLavos?!\n",
            "Magus\n",
            "Bad timing! Dont wake up on me now!\n",
            "Marle\n",
            "Wake up? YOURE the one who CREATED him!\n",
            "Lucca\n",
            "What do you mean?! Didnt you CREATE him?!\n",
            "Robo\n",
            "What do you mean? According to my records, Lavos was born here, at THIS precise\n",
            "moment\n",
            "Magus\n",
            "You fools! I only \"summoned\" him!\n",
            "He lives in the inner earth, absorbing the lands power and growing\n",
            "ever stronger!\n",
            "Marle\n",
            "What?!\n",
            "Lucca\n",
            "So, he wasnt born in this period\n",
            "Robo\n",
            "Then my data must be incorrect\n",
            "Frog\n",
            "Whats going on?!\n",
            "Marle\n",
            "Th, the Gate?!\n",
            "Lucca\n",
            "A g, Gate?!\n",
            "Its huge!\n",
            "Robo\n",
            "Impossible! A Gate this large should not exist!\n",
            "Magus\n",
            "You! If you hadnt shown up!\n",
            "Marle\n",
            "Crono!!\n",
            "Lucca\n",
            "Were being drawn in!\n",
            "Robo\n",
            "Its an enormous gravity well!\n",
            "Frog\n",
            "Whoa!!\n",
            "Affiliation\n",
            "\n",
            "Cartography\n",
            "\n",
            "Conjecture\n",
            "\n",
            "Encyclopedia\n",
            "\n",
            "Essays\n",
            "\n",
            "Illustrations\n",
            "Inquiries\n",
            "\n",
            "Misconceptions\n",
            "\n",
            "Mysteries\n",
            "\n",
            "Script\n",
            "\n",
            "Timelines\n",
            "\n",
            "Timetables\n"
          ]
        }
      ]
    }
  ]
}